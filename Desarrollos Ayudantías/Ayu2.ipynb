{
 "cells": [
  {
   "cell_type": "code",
   "execution_count": 1,
   "id": "a09d6c15-7dc1-477d-adf3-c5c7fc2dd177",
   "metadata": {
    "tags": []
   },
   "outputs": [],
   "source": [
    "import numpy as np\n",
    "import matplotlib.pyplot as plt\n",
    "from scipy import stats"
   ]
  },
  {
   "cell_type": "markdown",
   "id": "b91f1b06-bdfc-42e7-9720-7cf386bc2c5f",
   "metadata": {},
   "source": [
    "## 1 Laplace"
   ]
  },
  {
   "cell_type": "code",
   "execution_count": 14,
   "id": "5473934d-488b-4ec2-94bc-95e5076bd2bc",
   "metadata": {
    "tags": []
   },
   "outputs": [],
   "source": [
    "def ber_inv(x, p):\n",
    "    if x <= p:\n",
    "        return -1\n",
    "    else:\n",
    "        return 1\n",
    "    \n",
    "def exp_inv(x, l):\n",
    "    return -(1/l)*np.log(x)"
   ]
  },
  {
   "cell_type": "code",
   "execution_count": 28,
   "id": "7ce296ad-bbc5-4c30-9167-704407b907ae",
   "metadata": {
    "tags": []
   },
   "outputs": [],
   "source": [
    "p = 0.5\n",
    "l = 0.5\n",
    "\n",
    "array_1 = np.random.default_rng().uniform(0,1,size=10000)\n",
    "array_ber = [ber_inv(x, p) for x in array_1]\n",
    "\n",
    "array_2 = np.random.default_rng().uniform(0,1,size=10000)\n",
    "array_exp = [exp_inv(x, l) for x in array_2]\n",
    "\n",
    "array_lap = np.array(array_ber)*np.array(array_exp)"
   ]
  },
  {
   "cell_type": "code",
   "execution_count": 30,
   "id": "77afa606-bb6e-4c9d-9657-bdbb9b77ba97",
   "metadata": {
    "tags": []
   },
   "outputs": [
    {
     "data": {
      "image/png": "[encoded data removed]",
      "text/plain": [
       "<Figure size 640x480 with 1 Axes>"
      ]
     },
     "metadata": {},
     "output_type": "display_data"
    }
   ],
   "source": [
    "plt.hist(array_lap, bins=3)\n",
    "plt.show()"
   ]
  },
  {
   "cell_type": "code",
   "execution_count": 35,
   "id": "b587aa94-808b-479e-b554-ac32152bcdb5",
   "metadata": {
    "collapsed": true,
    "jupyter": {
     "outputs_hidden": true
    },
    "tags": []
   },
   "outputs": [
    {
     "ename": "UFuncTypeError",
     "evalue": "ufunc 'subtract' did not contain a loop with signature matching types (dtype('float64'), dtype('<U5')) -> None",
     "output_type": "error",
     "traceback": [
      "\u001b[1;31m---------------------------------------------------------------------------\u001b[0m",
      "\u001b[1;31mUFuncTypeError\u001b[0m                            Traceback (most recent call last)",
      "Cell \u001b[1;32mIn[35], line 1\u001b[0m\n\u001b[1;32m----> 1\u001b[0m stats\u001b[38;5;241m.\u001b[39mkstest(array_lap, stats\u001b[38;5;241m.\u001b[39mlaplace\u001b[38;5;241m.\u001b[39mcdf, args\u001b[38;5;241m=\u001b[39m{\u001b[38;5;124m\"\u001b[39m\u001b[38;5;124mscale\u001b[39m\u001b[38;5;124m\"\u001b[39m:\u001b[38;5;241m0.5\u001b[39m,\u001b[38;5;124m\"\u001b[39m\u001b[38;5;124msize\u001b[39m\u001b[38;5;124m\"\u001b[39m:\u001b[38;5;241m0.5\u001b[39m})\n",
      "File \u001b[1;32m~\\anaconda3\\Lib\\site-packages\\scipy\\_lib\\_util.py:700\u001b[0m, in \u001b[0;36m_rename_parameter.<locals>.decorator.<locals>.wrapper\u001b[1;34m(*args, **kwargs)\u001b[0m\n\u001b[0;32m    698\u001b[0m         \u001b[38;5;28;01mraise\u001b[39;00m \u001b[38;5;167;01mTypeError\u001b[39;00m(message)\n\u001b[0;32m    699\u001b[0m     kwargs[new_name] \u001b[38;5;241m=\u001b[39m kwargs\u001b[38;5;241m.\u001b[39mpop(old_name)\n\u001b[1;32m--> 700\u001b[0m \u001b[38;5;28;01mreturn\u001b[39;00m fun(\u001b[38;5;241m*\u001b[39margs, \u001b[38;5;241m*\u001b[39m\u001b[38;5;241m*\u001b[39mkwargs)\n",
      "File \u001b[1;32m~\\anaconda3\\Lib\\site-packages\\scipy\\stats\\_stats_py.py:8378\u001b[0m, in \u001b[0;36mkstest\u001b[1;34m(rvs, cdf, args, N, alternative, method)\u001b[0m\n\u001b[0;32m   8376\u001b[0m xvals, yvals, cdf \u001b[38;5;241m=\u001b[39m _parse_kstest_args(rvs, cdf, args, N)\n\u001b[0;32m   8377\u001b[0m \u001b[38;5;28;01mif\u001b[39;00m cdf:\n\u001b[1;32m-> 8378\u001b[0m     \u001b[38;5;28;01mreturn\u001b[39;00m ks_1samp(xvals, cdf, args\u001b[38;5;241m=\u001b[39margs, alternative\u001b[38;5;241m=\u001b[39malternative,\n\u001b[0;32m   8379\u001b[0m                     method\u001b[38;5;241m=\u001b[39mmethod)\n\u001b[0;32m   8380\u001b[0m \u001b[38;5;28;01mreturn\u001b[39;00m ks_2samp(xvals, yvals, alternative\u001b[38;5;241m=\u001b[39malternative, method\u001b[38;5;241m=\u001b[39mmethod)\n",
      "File \u001b[1;32m~\\anaconda3\\Lib\\site-packages\\scipy\\_lib\\_util.py:700\u001b[0m, in \u001b[0;36m_rename_parameter.<locals>.decorator.<locals>.wrapper\u001b[1;34m(*args, **kwargs)\u001b[0m\n\u001b[0;32m    698\u001b[0m         \u001b[38;5;28;01mraise\u001b[39;00m \u001b[38;5;167;01mTypeError\u001b[39;00m(message)\n\u001b[0;32m    699\u001b[0m     kwargs[new_name] \u001b[38;5;241m=\u001b[39m kwargs\u001b[38;5;241m.\u001b[39mpop(old_name)\n\u001b[1;32m--> 700\u001b[0m \u001b[38;5;28;01mreturn\u001b[39;00m fun(\u001b[38;5;241m*\u001b[39margs, \u001b[38;5;241m*\u001b[39m\u001b[38;5;241m*\u001b[39mkwargs)\n",
      "File \u001b[1;32m~\\anaconda3\\Lib\\site-packages\\scipy\\stats\\_stats_py.py:7739\u001b[0m, in \u001b[0;36mks_1samp\u001b[1;34m(x, cdf, args, alternative, method)\u001b[0m\n\u001b[0;32m   7737\u001b[0m N \u001b[38;5;241m=\u001b[39m \u001b[38;5;28mlen\u001b[39m(x)\n\u001b[0;32m   7738\u001b[0m x \u001b[38;5;241m=\u001b[39m np\u001b[38;5;241m.\u001b[39msort(x)\n\u001b[1;32m-> 7739\u001b[0m cdfvals \u001b[38;5;241m=\u001b[39m cdf(x, \u001b[38;5;241m*\u001b[39margs)\n\u001b[0;32m   7741\u001b[0m \u001b[38;5;28;01mif\u001b[39;00m alternative \u001b[38;5;241m==\u001b[39m \u001b[38;5;124m'\u001b[39m\u001b[38;5;124mgreater\u001b[39m\u001b[38;5;124m'\u001b[39m:\n\u001b[0;32m   7742\u001b[0m     Dplus, d_location \u001b[38;5;241m=\u001b[39m _compute_dplus(cdfvals, x)\n",
      "File \u001b[1;32m~\\anaconda3\\Lib\\site-packages\\scipy\\stats\\_distn_infrastructure.py:2176\u001b[0m, in \u001b[0;36mrv_continuous.cdf\u001b[1;34m(self, x, *args, **kwds)\u001b[0m\n\u001b[0;32m   2174\u001b[0m _a, _b \u001b[38;5;241m=\u001b[39m \u001b[38;5;28mself\u001b[39m\u001b[38;5;241m.\u001b[39m_get_support(\u001b[38;5;241m*\u001b[39margs)\n\u001b[0;32m   2175\u001b[0m dtyp \u001b[38;5;241m=\u001b[39m np\u001b[38;5;241m.\u001b[39mpromote_types(x\u001b[38;5;241m.\u001b[39mdtype, np\u001b[38;5;241m.\u001b[39mfloat64)\n\u001b[1;32m-> 2176\u001b[0m x \u001b[38;5;241m=\u001b[39m np\u001b[38;5;241m.\u001b[39masarray((x \u001b[38;5;241m-\u001b[39m loc)\u001b[38;5;241m/\u001b[39mscale, dtype\u001b[38;5;241m=\u001b[39mdtyp)\n\u001b[0;32m   2177\u001b[0m cond0 \u001b[38;5;241m=\u001b[39m \u001b[38;5;28mself\u001b[39m\u001b[38;5;241m.\u001b[39m_argcheck(\u001b[38;5;241m*\u001b[39margs) \u001b[38;5;241m&\u001b[39m (scale \u001b[38;5;241m>\u001b[39m \u001b[38;5;241m0\u001b[39m)\n\u001b[0;32m   2178\u001b[0m cond1 \u001b[38;5;241m=\u001b[39m \u001b[38;5;28mself\u001b[39m\u001b[38;5;241m.\u001b[39m_open_support_mask(x, \u001b[38;5;241m*\u001b[39margs) \u001b[38;5;241m&\u001b[39m (scale \u001b[38;5;241m>\u001b[39m \u001b[38;5;241m0\u001b[39m)\n",
      "\u001b[1;31mUFuncTypeError\u001b[0m: ufunc 'subtract' did not contain a loop with signature matching types (dtype('float64'), dtype('<U5')) -> None"
     ]
    }
   ],
   "source": [
    "stats.kstest(array_lap, stats.laplace.cdf, args={\"scale\":0.5,\"size\":0.5})"
   ]
  },
  {
   "cell_type": "code",
   "execution_count": null,
   "id": "9a99d795-9d74-43f6-90de-6bcdc0dd8a74",
   "metadata": {},
   "outputs": [],
   "source": [
    "stats.laplace.rvs()"
   ]
  },
  {
   "cell_type": "markdown",
   "id": "f16ad4ed-85b8-41c2-b4f0-a68437f6e69d",
   "metadata": {},
   "source": [
    "## 2 Aceptación rechazo"
   ]
  },
  {
   "cell_type": "code",
   "execution_count": 96,
   "id": "f3194eed-17f4-47f8-95dd-1ef605e8bf43",
   "metadata": {
    "tags": []
   },
   "outputs": [],
   "source": [
    "def lap(l):\n",
    "    return exp_inv(unif(0,1),l) * ber_inv(unif(0,1), 1/2)\n",
    "\n",
    "unif = np.random.default_rng().uniform"
   ]
  },
  {
   "cell_type": "code",
   "execution_count": 88,
   "id": "2664f1dc-3950-4d26-86c0-c4bd29ea8e79",
   "metadata": {
    "tags": []
   },
   "outputs": [],
   "source": [
    "def gaussian(x,s):\n",
    "    return np.exp(-x**2/(2*s**2))/(np.sqrt(2*np.pi)*s**2)\n",
    "\n",
    "def laplace(x,l):\n",
    "    return l*np.exp(-l*abs(x))/2"
   ]
  },
  {
   "cell_type": "code",
   "execution_count": 144,
   "id": "e3b801f1-96ed-4de7-a4d0-8efd4f7c347b",
   "metadata": {
    "tags": []
   },
   "outputs": [],
   "source": [
    "def acep_rec(M, l, s):\n",
    "    flag = True\n",
    "    while flag:\n",
    "        y = gen_lap(l)\n",
    "        u = unif(0,1)\n",
    "        if u <= gaussian(y,s)/(M*laplace(y,l)):\n",
    "            flag = False\n",
    "    return y"
   ]
  },
  {
   "cell_type": "code",
   "execution_count": 167,
   "id": "e180c6be-fa8e-4366-9760-02fe05bd5336",
   "metadata": {
    "tags": []
   },
   "outputs": [],
   "source": [
    "M = 5\n",
    "l = 0.5\n",
    "s = 1"
   ]
  },
  {
   "cell_type": "code",
   "execution_count": 166,
   "id": "82cff101-7679-4853-b1d9-3d8d2069c7ca",
   "metadata": {
    "tags": []
   },
   "outputs": [
    {
     "data": {
      "text/plain": [
       "0.8688291540595541"
      ]
     },
     "execution_count": 166,
     "metadata": {},
     "output_type": "execute_result"
    }
   ],
   "source": [
    "acep_rec(M, l, s)"
   ]
  },
  {
   "cell_type": "markdown",
   "id": "ce8b290c-3681-4b93-ad4a-e7f3cb5de6a0",
   "metadata": {},
   "source": [
    "## 3"
   ]
  },
  {
   "cell_type": "code",
   "execution_count": null,
   "id": "d11731a8-027d-4fb5-8998-f146411fefd5",
   "metadata": {},
   "outputs": [],
   "source": [
    "M = 5\n",
    "l = 0.5\n",
    "s = 1"
   ]
  },
  {
   "cell_type": "code",
   "execution_count": 108,
   "id": "2520a75c-d5f5-43c3-9b72-918089dd91f0",
   "metadata": {
    "tags": []
   },
   "outputs": [],
   "source": [
    "n = 1000\n",
    "nu = 5\n",
    "N = 4*nu + n*nu"
   ]
  },
  {
   "cell_type": "code",
   "execution_count": 172,
   "id": "84ee6842-79d4-4448-8604-f82ea8e3df11",
   "metadata": {
    "tags": []
   },
   "outputs": [],
   "source": [
    "Y = []\n",
    "for i in range(N):\n",
    "    Y.append(acep_rec(M, l, s))"
   ]
  },
  {
   "cell_type": "code",
   "execution_count": 175,
   "id": "de42422d-05a6-4dea-8771-a480f947f3cf",
   "metadata": {
    "tags": []
   },
   "outputs": [
    {
     "data": {
      "text/plain": [
       "5020"
      ]
     },
     "execution_count": 175,
     "metadata": {},
     "output_type": "execute_result"
    }
   ],
   "source": [
    "N"
   ]
  },
  {
   "cell_type": "code",
   "execution_count": 174,
   "id": "3c1aa629-a5c0-4c55-ab40-d1a5a943c309",
   "metadata": {
    "tags": []
   },
   "outputs": [
    {
     "data": {
      "image/png": "[encoded data removed]",
      "text/plain": [
       "<Figure size 640x480 with 1 Axes>"
      ]
     },
     "metadata": {},
     "output_type": "display_data"
    }
   ],
   "source": [
    "plt.hist(Y, bins=55)\n",
    "plt.show()"
   ]
  },
  {
   "cell_type": "code",
   "execution_count": null,
   "id": "696f87c3-4dca-459a-96b7-037431180488",
   "metadata": {},
   "outputs": [],
   "source": []
  }
 ],
 "metadata": {
  "kernelspec": {
   "display_name": "Python 3 (ipykernel)",
   "language": "python",
   "name": "python3"
  },
  "language_info": {
   "codemirror_mode": {
    "name": "ipython",
    "version": 3
   },
   "file_extension": ".py",
   "mimetype": "text/x-python",
   "name": "python",
   "nbconvert_exporter": "python",
   "pygments_lexer": "ipython3",
   "version": "3.11.3"
  }
 },
 "nbformat": 4,
 "nbformat_minor": 5
}
