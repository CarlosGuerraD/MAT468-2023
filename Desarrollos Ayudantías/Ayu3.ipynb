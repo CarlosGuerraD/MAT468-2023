{
 "cells": [
  {
   "cell_type": "code",
   "execution_count": 2,
   "id": "bb3f7999-494e-46c6-aea9-b135168c01c7",
   "metadata": {
    "tags": []
   },
   "outputs": [],
   "source": [
    "import numpy as np\n",
    "import matplotlib.pyplot as plt\n",
    "from scipy import stats"
   ]
  },
  {
   "cell_type": "code",
   "execution_count": 3,
   "id": "db152de4-fe78-4a8a-94f8-ac3590ff2508",
   "metadata": {
    "tags": []
   },
   "outputs": [],
   "source": [
    "unif = np.random.default_rng().uniform\n"
   ]
  },
  {
   "cell_type": "markdown",
   "id": "e2ba8980-4f58-4f54-abaf-f720f7944e13",
   "metadata": {},
   "source": [
    "## 1 Generar uniforme S $\\subseteq$ [0,1]x[0,1]"
   ]
  },
  {
   "cell_type": "code",
   "execution_count": 81,
   "id": "c125104b-3d44-4b98-8f5b-dd5f36eacbe0",
   "metadata": {
    "tags": []
   },
   "outputs": [],
   "source": [
    "def S(n):\n",
    "    x = unif(0, 1, size=n).reshape(-1,1)\n",
    "    y = unif(0, 1, size=n).reshape(-1,1)\n",
    "    return np.concatenate((x,y), axis=1)"
   ]
  },
  {
   "cell_type": "code",
   "execution_count": null,
   "id": "852674cc-1c4a-4679-b120-621e607b2597",
   "metadata": {},
   "outputs": [],
   "source": [
    "points = S(100)"
   ]
  },
  {
   "cell_type": "markdown",
   "id": "b07d0b7a-fe46-489a-b4e0-4aedc7f691a6",
   "metadata": {},
   "source": [
    "## 2 Calcular c"
   ]
  },
  {
   "cell_type": "code",
   "execution_count": 129,
   "id": "83f30129-b441-4da6-91b7-c8d05248b934",
   "metadata": {
    "tags": []
   },
   "outputs": [],
   "source": [
    "def phi(x,psi):\n",
    "    return psi*((x.flatten()[0])**2+(x.flatten()[1])**2)\n",
    "\n",
    "def f(x, S, psi, c):\n",
    "    suma = 0\n",
    "    for s in S:\n",
    "        suma += np.exp(-phi(x-s,psi))\n",
    "    return suma/c\n",
    "\n",
    "def grid(k):\n",
    "    l = np.linspace(0.05,0.95,num=k)\n",
    "    xv, yv = np.meshgrid(l,l)\n",
    "    grid = np.concatenate((xv.reshape(-1,1),yv.reshape(-1,1)),axis=1)\n",
    "    return grid, xv, yv\n",
    "\n",
    "def constant(mesh, points, psi):\n",
    "    _ = 0\n",
    "    for x in mesh:\n",
    "        _ += f(x,points,psi,1)/k\n",
    "    return _"
   ]
  },
  {
   "cell_type": "code",
   "execution_count": 139,
   "id": "2f1f506f-671c-4e11-a149-994eb55833cd",
   "metadata": {
    "tags": []
   },
   "outputs": [],
   "source": [
    "grid_n = 50\n",
    "mesh, xv, yv = grid(grid_n)"
   ]
  },
  {
   "cell_type": "code",
   "execution_count": 140,
   "id": "c08a1ddc-6a40-4799-95ca-58558ef819c1",
   "metadata": {
    "tags": []
   },
   "outputs": [
    {
     "data": {
      "image/png": "[encoded data removed]",
      "text/plain": [
       "<Figure size 640x480 with 1 Axes>"
      ]
     },
     "metadata": {},
     "output_type": "display_data"
    }
   ],
   "source": [
    "plt.plot(xv, yv, marker='o', color='k', linestyle='none')\n",
    "plt.show()"
   ]
  },
  {
   "cell_type": "code",
   "execution_count": 165,
   "id": "c01f82cb-a251-475c-915f-0de5ff69a695",
   "metadata": {
    "tags": []
   },
   "outputs": [],
   "source": [
    "n=50\n",
    "psi = 1/0.05\n",
    "points = S(n)\n",
    "c = constant(mesh, points, psi)"
   ]
  },
  {
   "cell_type": "code",
   "execution_count": 166,
   "id": "d4066122-d40a-4087-96bc-29533c3b9288",
   "metadata": {
    "tags": []
   },
   "outputs": [
    {
     "data": {
      "text/plain": [
       "1695.5051403571576"
      ]
     },
     "execution_count": 166,
     "metadata": {},
     "output_type": "execute_result"
    }
   ],
   "source": [
    "c"
   ]
  },
  {
   "cell_type": "markdown",
   "id": "2d53384d-b329-4704-a0eb-50af3da633d3",
   "metadata": {},
   "source": [
    "## 3 Aceptación rechazo"
   ]
  },
  {
   "cell_type": "code",
   "execution_count": 167,
   "id": "2bdbb785-26f1-4254-b876-84ad3b097f73",
   "metadata": {
    "tags": []
   },
   "outputs": [],
   "source": [
    "def acep_rec(M, f, g, S, psi, c):\n",
    "    flag = True\n",
    "    while flag:\n",
    "        y = unif(0,1,size=2).reshape(1,-1)\n",
    "        u = unif(0,1)\n",
    "        if u <= f(y, S, psi, c)/(M*g(y)):\n",
    "            flag = False\n",
    "    return y"
   ]
  },
  {
   "cell_type": "code",
   "execution_count": 168,
   "id": "88077445-9966-46ce-b169-3deb5f345250",
   "metadata": {
    "tags": []
   },
   "outputs": [],
   "source": [
    "def g(x):\n",
    "    return 1\n"
   ]
  },
  {
   "cell_type": "code",
   "execution_count": 169,
   "id": "62e83f10-5298-4d0c-8199-b9e16fefe4f2",
   "metadata": {
    "tags": []
   },
   "outputs": [],
   "source": [
    "x = acep_rec(10,f,g,points,psi,c)"
   ]
  },
  {
   "cell_type": "code",
   "execution_count": 188,
   "id": "14d151de-e99b-46b9-b6cd-4d4284d5c188",
   "metadata": {
    "tags": []
   },
   "outputs": [],
   "source": [
    "simulated_points = []\n",
    "for i in range(100):\n",
    "    simulated_points.append(acep_rec(10,f,g,points,psi,c))"
   ]
  },
  {
   "cell_type": "code",
   "execution_count": 190,
   "id": "c328dd61-dd08-4391-aab5-cdc0a9ab24ea",
   "metadata": {
    "tags": []
   },
   "outputs": [
    {
     "data": {
      "image/png": "[encoded data removed]",
      "text/plain": [
       "<Figure size 640x480 with 1 Axes>"
      ]
     },
     "metadata": {},
     "output_type": "display_data"
    }
   ],
   "source": [
    "plt.hist2d(np.asarray(simulated_points).reshape(-1,2)[:,0],np.asarray(simulated_points).reshape(-1,2)[:,1], bins=(10, 10), cmap=plt.cm.jet)\n",
    "plt.show()"
   ]
  },
  {
   "cell_type": "code",
   "execution_count": null,
   "id": "acbb96ce-56b2-4b7f-920f-1ea17719456a",
   "metadata": {},
   "outputs": [],
   "source": []
  }
 ],
 "metadata": {
  "kernelspec": {
   "display_name": "Python 3 (ipykernel)",
   "language": "python",
   "name": "python3"
  },
  "language_info": {
   "codemirror_mode": {
    "name": "ipython",
    "version": 3
   },
   "file_extension": ".py",
   "mimetype": "text/x-python",
   "name": "python",
   "nbconvert_exporter": "python",
   "pygments_lexer": "ipython3",
   "version": "3.11.3"
  }
 },
 "nbformat": 4,
 "nbformat_minor": 5
}
